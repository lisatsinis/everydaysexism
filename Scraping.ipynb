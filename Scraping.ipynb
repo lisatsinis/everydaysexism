{
 "cells": [
  {
   "cell_type": "code",
   "execution_count": 1,
   "metadata": {},
   "outputs": [],
   "source": [
    "import requests\n",
    "from bs4 import BeautifulSoup\n",
    "from urllib.request import urlopen\n",
    "import urllib\n",
    "from urllib.parse import urlparse\n",
    "import codecs\n",
    "import re\n",
    "\n",
    "import pandas as pd\n",
    "\n"
   ]
  },
  {
   "cell_type": "code",
   "execution_count": 2,
   "metadata": {},
   "outputs": [
    {
     "name": "stdout",
     "output_type": "stream",
     "text": [
      "Collecting tqdm\n",
      "\u001b[?25l  Downloading https://files.pythonhosted.org/packages/93/3a/96b3dc293aa72443cf9627444c3c221a7ba34bb622e4d8bf1b5d4f2d9d08/tqdm-4.51.0-py2.py3-none-any.whl (70kB)\n",
      "\u001b[K     |████████████████████████████████| 71kB 4.5MB/s eta 0:00:011\n",
      "\u001b[?25hInstalling collected packages: tqdm\n",
      "Successfully installed tqdm-4.51.0\n"
     ]
    }
   ],
   "source": [
    "!pip install tqdm"
   ]
  },
  {
   "cell_type": "code",
   "execution_count": 11,
   "metadata": {},
   "outputs": [],
   "source": [
    "%%capture\n",
    "from tqdm import tqdm\n",
    "from tqdm.notebook import tqdm, trange\n",
    "import time    # to be used in loop iterations\n"
   ]
  },
  {
   "cell_type": "code",
   "execution_count": 23,
   "metadata": {},
   "outputs": [],
   "source": [
    "url = \"https://everydaysexism.com/\""
   ]
  },
  {
   "cell_type": "code",
   "execution_count": 24,
   "metadata": {},
   "outputs": [],
   "source": [
    "page = urlopen(url)\n",
    "html = page.read().decode(\"utf-8\", errors='strict')\n",
    "soup = BeautifulSoup(html, \"html.parser\")"
   ]
  },
  {
   "cell_type": "code",
   "execution_count": 40,
   "metadata": {},
   "outputs": [],
   "source": [
    "# print(soup)"
   ]
  },
  {
   "cell_type": "code",
   "execution_count": 53,
   "metadata": {},
   "outputs": [
    {
     "data": {
      "application/vnd.jupyter.widget-view+json": {
       "model_id": "0da2590ea49f407d8874029a7a37716c",
       "version_major": 2,
       "version_minor": 0
      },
      "text/plain": [
       "HBox(children=(HTML(value=''), FloatProgress(value=0.0, max=9.0), HTML(value='')))"
      ]
     },
     "metadata": {},
     "output_type": "display_data"
    },
    {
     "name": "stdout",
     "output_type": "stream",
     "text": [
      "\n"
     ]
    }
   ],
   "source": [
    "names = []\n",
    "dates = []\n",
    "entries = []\n",
    "tags = []\n",
    "\n",
    "def bs_setup(page_number):\n",
    "    if page_number == 1:\n",
    "        url = \"https://everydaysexism.com/\"\n",
    "    else:\n",
    "        url = \"https://everydaysexism.com/page/{}\".format(page_number)\n",
    "        \n",
    "    page = urlopen(url)\n",
    "    html = page.read().decode(\"utf-8\", errors='strict')\n",
    "    soup = BeautifulSoup(html, \"html.parser\")\n",
    "\n",
    "    return soup\n",
    "\n",
    "def lists_setup(start, end): \n",
    "    for num in trange(start,end): #includes first number, excludes second #trange so that i can have a progress bar...\n",
    "        time.sleep(10)\n",
    "        \n",
    "        soup = bs_setup(num)\n",
    "        \n",
    "        for title in soup.find_all('h2'):\n",
    "            names.append(title.find('a').text)\n",
    "\n",
    "        for date in soup.find_all('span', {'class': \"entry-date\"}):\n",
    "            dates.append(date.text)\n",
    "\n",
    "        for entry in soup.find_all('section', {'class': \"entry-content\"}):\n",
    "            entries.append(entry.text)\n",
    "\n",
    "        for tag in soup.find_all('span', {'class': 'tag-links'}):\n",
    "            list_ = []\n",
    "            list_.append(re.sub('Tags: ', '', tag.text))\n",
    "            tags.append(list_)\n",
    "\n",
    "lists_setup(1,10)"
   ]
  },
  {
   "cell_type": "code",
   "execution_count": 54,
   "metadata": {},
   "outputs": [],
   "source": [
    "df = pd.DataFrame(list(zip(names, dates, entries,tags)), columns =['Name', 'Date', 'Post', 'Tags'])"
   ]
  },
  {
   "cell_type": "code",
   "execution_count": 56,
   "metadata": {},
   "outputs": [
    {
     "data": {
      "text/plain": [
       "(90, 4)"
      ]
     },
     "execution_count": 56,
     "metadata": {},
     "output_type": "execute_result"
    }
   ],
   "source": [
    "df.shape"
   ]
  },
  {
   "cell_type": "code",
   "execution_count": 40,
   "metadata": {},
   "outputs": [
    {
     "data": {
      "application/vnd.jupyter.widget-view+json": {
       "model_id": "b8f7af07c35d4519a41e7d1a6e652387",
       "version_major": 2,
       "version_minor": 0
      },
      "text/plain": [
       "HBox(children=(HTML(value=''), FloatProgress(value=0.0, max=2.0), HTML(value='')))"
      ]
     },
     "metadata": {},
     "output_type": "display_data"
    },
    {
     "name": "stdout",
     "output_type": "stream",
     "text": [
      "\n"
     ]
    }
   ],
   "source": [
    "rows = []\n",
    "\n",
    "def bs_setup(page_number):\n",
    "    if page_number == 1:\n",
    "        url = \"https://everydaysexism.com/\"\n",
    "    else:\n",
    "        url = \"https://everydaysexism.com/page/{}\".format(page_number)\n",
    "        \n",
    "    page = urlopen(url)\n",
    "    html = page.read().decode(\"utf-8\", errors='strict')\n",
    "    soup = BeautifulSoup(html, \"html.parser\")\n",
    "\n",
    "    return soup\n",
    "\n",
    "def lists_setup(start, end): \n",
    "    for num in trange(start,end): #includes first number, excludes second #trange so that i can have a progress bar...\n",
    "        time.sleep(10) #right spot?\n",
    "        soup = bs_setup(num)\n",
    "        \n",
    "        for title in soup.find_all('h2'):\n",
    "            row = []\n",
    "            \n",
    "            row.append(title.find('a').text)\n",
    "            row.append(title.find_next('span', {'class': \"entry-date\"}).text)\n",
    "            row.append(title.find_next('section', {'class': \"entry-content\"}).text)\n",
    "            row.append(title.find_next('span', {'class': 'tag-links'}).text)\n",
    "            \n",
    "            rows.append(row)\n",
    "\n",
    "lists_setup(1,3)"
   ]
  },
  {
   "cell_type": "code",
   "execution_count": 49,
   "metadata": {},
   "outputs": [],
   "source": [
    "df2 = pd.DataFrame(rows, columns =['Name', 'Date', 'Post', 'Tags'])"
   ]
  },
  {
   "cell_type": "code",
   "execution_count": 50,
   "metadata": {},
   "outputs": [
    {
     "data": {
      "text/html": [
       "<div>\n",
       "<style scoped>\n",
       "    .dataframe tbody tr th:only-of-type {\n",
       "        vertical-align: middle;\n",
       "    }\n",
       "\n",
       "    .dataframe tbody tr th {\n",
       "        vertical-align: top;\n",
       "    }\n",
       "\n",
       "    .dataframe thead th {\n",
       "        text-align: right;\n",
       "    }\n",
       "</style>\n",
       "<table border=\"1\" class=\"dataframe\">\n",
       "  <thead>\n",
       "    <tr style=\"text-align: right;\">\n",
       "      <th></th>\n",
       "      <th>Name</th>\n",
       "      <th>Date</th>\n",
       "      <th>Post</th>\n",
       "      <th>Tags</th>\n",
       "    </tr>\n",
       "  </thead>\n",
       "  <tbody>\n",
       "    <tr>\n",
       "      <th>0</th>\n",
       "      <td>M</td>\n",
       "      <td>9th November 2020</td>\n",
       "      <td>\\nTwice now I have had food delivered to me wh...</td>\n",
       "      <td>Tags: Food delivery, Home</td>\n",
       "    </tr>\n",
       "    <tr>\n",
       "      <th>1</th>\n",
       "      <td>Ramya</td>\n",
       "      <td>9th November 2020</td>\n",
       "      <td>\\nDuring a presentation today, my Male Colleag...</td>\n",
       "      <td>Tags: Workplace</td>\n",
       "    </tr>\n",
       "    <tr>\n",
       "      <th>2</th>\n",
       "      <td>Yara</td>\n",
       "      <td>9th November 2020</td>\n",
       "      <td>\\nA few months ago I (16) was sexually assault...</td>\n",
       "      <td>Tags: Public space</td>\n",
       "    </tr>\n",
       "  </tbody>\n",
       "</table>\n",
       "</div>"
      ],
      "text/plain": [
       "    Name               Date  \\\n",
       "0      M  9th November 2020   \n",
       "1  Ramya  9th November 2020   \n",
       "2   Yara  9th November 2020   \n",
       "\n",
       "                                                Post  \\\n",
       "0  \\nTwice now I have had food delivered to me wh...   \n",
       "1  \\nDuring a presentation today, my Male Colleag...   \n",
       "2  \\nA few months ago I (16) was sexually assault...   \n",
       "\n",
       "                        Tags  \n",
       "0  Tags: Food delivery, Home  \n",
       "1            Tags: Workplace  \n",
       "2         Tags: Public space  "
      ]
     },
     "execution_count": 50,
     "metadata": {},
     "output_type": "execute_result"
    }
   ],
   "source": [
    "df2.head(3)"
   ]
  },
  {
   "cell_type": "code",
   "execution_count": 52,
   "metadata": {},
   "outputs": [],
   "source": [
    "# print(soup)"
   ]
  },
  {
   "cell_type": "code",
   "execution_count": null,
   "metadata": {},
   "outputs": [],
   "source": []
  }
 ],
 "metadata": {
  "kernelspec": {
   "display_name": "Python 3",
   "language": "python",
   "name": "python3"
  },
  "language_info": {
   "codemirror_mode": {
    "name": "ipython",
    "version": 3
   },
   "file_extension": ".py",
   "mimetype": "text/x-python",
   "name": "python",
   "nbconvert_exporter": "python",
   "pygments_lexer": "ipython3",
   "version": "3.7.4"
  }
 },
 "nbformat": 4,
 "nbformat_minor": 2
}
